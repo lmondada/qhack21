{
 "cells": [
  {
   "cell_type": "code",
   "execution_count": 1,
   "metadata": {},
   "outputs": [
    {
     "name": "stdout",
     "output_type": "stream",
     "text": [
      "Current working directory: C:\\Users\\Stefa\\Documents\\git\\lmondada\\qhack21\n"
     ]
    }
   ],
   "source": [
    "import os\n",
    "DEBUG = True\n",
    "try:\n",
    "    print(\"Original working directory: %s\"%str(original_wd)) # type: ignore\n",
    "    \"\"\"\n",
    "        You only get here if you---by mistake or otherwise---are re-running this cell, \n",
    "        in which case the working should not be changed again.\n",
    "    \"\"\"\n",
    "except NameError:\n",
    "    original_wd = os.getcwd()\n",
    "    os.chdir('../')\n",
    "print(\"Current working directory: %s\"%str(os.getcwd()))"
   ]
  },
  {
   "cell_type": "code",
   "execution_count": 2,
   "metadata": {},
   "outputs": [],
   "source": [
    "from utils.data_handling import load_data, get_combined_cov_pos\n",
    "from utils.dataset import Dataset\n",
    "from utils.linalg import so3_to_su2, to_so3\n",
    "from encoding import encode\n",
    "import pennylane.numpy as np\n",
    "import pennylane as qml\n",
    "import pandas as pd"
   ]
  },
  {
   "cell_type": "code",
   "execution_count": 5,
   "metadata": {},
   "outputs": [
    {
     "name": "stdout",
     "output_type": "stream",
     "text": [
      "Reading data... ok\n",
      "Filtering dataset... ok\n",
      "Computing covmats... ok\n",
      "Returning dataset with 79/20 training/testing datapoints\n"
     ]
    }
   ],
   "source": [
    "data = Dataset(load_data()[:1000])\n",
    "train_data, test_data = data.get_train_and_test()\n",
    "\n",
    "def get_y(cov):\n",
    "    eigs, _ = np.linalg.eigh(cov)\n",
    "    eigs = np.log(eigs)/20\n",
    "    return eigs\n",
    "    \n",
    "train_x = [x[:2] for x in train_data]\n",
    "train_y = [get_y(x[2]) for x in train_data]\n",
    "test_x = [x[:2] for x in test_data]\n",
    "test_y = [get_y(x[2]) for x in test_data]"
   ]
  },
  {
   "cell_type": "code",
   "execution_count": 6,
   "metadata": {
    "tags": []
   },
   "outputs": [
    {
     "name": "stdout",
     "output_type": "stream",
     "text": [
      " 0: ──RX(0.282)───RX(0.505)──RZ(0.363)───RX(0.404)───────────────────────────────────────╭C───────────────────────────────────────────────────────────────────────────────────────────────────────────────────────────────────────────────────────────────────────────────────────────────────────────────────────────┤     \n",
      " 1: ──RX(0.37)────RX(0.415)──RZ(0.527)───RX(0.584)───────────────────────────╭C──────────│────────────────────────────────────────────────────────────────────────────────────────────────────────────────────────────────────────────────────────────────────────────────────────────────────────────────────────────┤     \n",
      " 2: ──RX(0.52)────RX(0.312)──RZ(0.429)───RX(0.277)───────────────╭C──────────│───────────│────────────────────────────────────────────────────────────────────────────────────────────────────────────────────────────────────────────────────────────────────────────────────────────────────────────────────────────┤     \n",
      " 3: ──H──────────╭C──────────RZ(-0.999)──RX(1.2)────RZ(-3.1)─────│───────────│───────────│───────────RX(0.129)──RZ(0.883)──RX(0.104)──╭C──────────────────────╭C─────────────────────────────────╭C───────────────────────────────────────────────────────────────────────────────────────────────────────────────────┤     \n",
      " 4: ─────────────╰X──────────RX(0.296)───RZ(0.769)──RX(0.461)────│───────────│───────────│────────────────────────────────────────────│───────────╭C──────────│──────────────────────╭C──────────│───────────────────────────────────╭C───────────────────────────────────────────────────────────────────────────────┤     \n",
      " 5: ──RX(1.8)────────────────────────────────────────────────────│───────────│───────────╰RY(0.535)───────────────────────────────────╰RY(0.951)──╰RY(0.164)──│───────────╭RY(0.18)──│───────────│───────────────────────╭RY(0.404)──│────────────RX(0.261)───────────────RZ(0.192)──RX(0.14)─────────────────────────┤ ⟨Z⟩ \n",
      " 6: ──RX(1.8)────────────────────────────────────────────────────│───────────╰RY(0.609)───────────────────────────────────────────────────────────────────────╰RY(0.971)──│──────────╰RY(0.864)──│───────────╭RY(0.561)──│───────────│───────────────────────╭RY(0.434)───RX(0.387)──RZ(0.241)──RX(0.204)─────────────┤ ⟨Z⟩ \n",
      " 7: ──RX(1.8)────────────────────────────────────────────────────╰RY(0.715)───────────────────────────────────────────────────────────────────────────────────────────────│──────────────────────╰RY(0.509)──│───────────│───────────╰RY(0.905)──╭RY(0.652)──│───────────╭RY(0.702)──RX(0.722)──RZ(0.646)──RX(0.819)──┤ ⟨Z⟩ \n",
      " 8: ──H──────────╭C──────────RZ(1.29)────RX(1.98)───RZ(-0.0504)───────────────────────────────────────────────────────────────────────────────────────────────────────────╰C─────────────────────────────────╰C──────────│───────────────────────╰C──────────│───────────│────────────────────────────────────────────┤     \n",
      " 9: ─────────────╰X──────────────────────────────────────────────────────────────────────────────────────────────────────────────────────────────────────────────────────────────────────────────────────────────────────╰C──────────────────────────────────╰C──────────╰C───────────────────────────────────────────┤     \n",
      "\n"
     ]
    }
   ],
   "source": [
    "selected_ind = [0, 1]\n",
    "wires = np.arange(5 * len(selected_ind))\n",
    "dev = qml.device('default.qubit', wires=wires)\n",
    "\n",
    "def layer(params=None, count_only=False):\n",
    "    \"\"\"\n",
    "    A layer in our variational circuit\n",
    "    \n",
    "    If `count_only` is true, the function returns the number\n",
    "    of necessary parameters.\n",
    "    If `params` is None, then a dummy circuit is built and\n",
    "    `count_only` must be set to true\n",
    "    \"\"\"\n",
    "    if params is None and not count_only:\n",
    "        raise ValueError(\"params cannot be None unless count_only=True\")\n",
    "        \n",
    "    param_ind = 0\n",
    "    def get_params(n = 1):\n",
    "        \"\"\"\n",
    "        hands out trainable parameters from `params`\n",
    "        \n",
    "        Returns new parameter(s) at each call (assumes there\n",
    "        are enough parameters available). The optional param\n",
    "        `n` specifies how many parameters should be returned\n",
    "        \"\"\"\n",
    "        nonlocal param_ind\n",
    "        ret = []\n",
    "        for i in range(n):\n",
    "            if count_only:\n",
    "                ret.append(0)\n",
    "            else:\n",
    "                ret.append(params[param_ind])\n",
    "            param_ind += 1\n",
    "        return ret if len(ret) > 1 else ret[0]\n",
    "    \n",
    "    qml.templates.AngleEmbedding(get_params(5), wires[:5], rotation='X')\n",
    "    qml.templates.AngleEmbedding(get_params(5), wires[:5], rotation='Z')\n",
    "    qml.templates.AngleEmbedding(get_params(5), wires[:5], rotation='X')\n",
    "\n",
    "    # entangle position t0 with t1\n",
    "    for ind in np.arange(3):\n",
    "        q0 = wires[ind]\n",
    "        q1 = wires[ind+5]\n",
    "        qml.CRY(get_params(),wires=[q0, q1])\n",
    "    # entangle cov(t0) with pos(t1)\n",
    "    for ind in np.arange(3, 5):\n",
    "        q0 = wires[ind]\n",
    "        for jnd in np.arange(5, 8):\n",
    "            q1 = wires[jnd]\n",
    "            qml.CRY(get_params(),wires=[q0,q1])\n",
    "    # entangle cov(t1) with pos(t1)\n",
    "    for ind in np.arange(8, 10):\n",
    "        q0 = wires[ind]\n",
    "        for jnd in np.arange(5, 8):\n",
    "            q1 = wires[jnd]\n",
    "            qml.CRY(get_params(),wires=[q0,q1])\n",
    "    \n",
    "    qml.templates.AngleEmbedding(get_params(3), wires[5:8], rotation='X')\n",
    "    qml.templates.AngleEmbedding(get_params(3), wires[5:8], rotation='Z')\n",
    "    qml.templates.AngleEmbedding(get_params(3), wires[5:8], rotation='X')\n",
    "    \n",
    "    if count_only:\n",
    "        return param_ind\n",
    "\n",
    "@qml.qnode(dev)\n",
    "def circ(covs, params):\n",
    "    for ind, cov in enumerate(covs):\n",
    "        encode(cov, wires=wires[5*ind:5*(ind+1)])\n",
    "    layer(params)\n",
    "    return [qml.expval(qml.PauliZ(wires=i)) for i in wires[5:8]]\n",
    "\n",
    "def model(covs, params):\n",
    "    out = circ(covs, params)\n",
    "    alphas = 2*np.arccos(np.sqrt(.5 * (out[:3] + 1)))\n",
    "    return alphas\n",
    "\n",
    "n_params = layer(count_only=True)\n",
    "circ(train_x[0], np.random.rand(n_params))\n",
    "print(circ.draw())"
   ]
  },
  {
   "cell_type": "code",
   "execution_count": 10,
   "metadata": {},
   "outputs": [
    {
     "name": "stdout",
     "output_type": "stream",
     "text": [
      "Baseline error: 7.2%\n",
      "Epoch 0: 5.9% / testing error 16.8%\n",
      "Epoch 1: 7.6% / testing error 18.4%\n",
      "Epoch 2: 9.3% / testing error 20.2%\n",
      "Epoch 3: 10.1% / testing error 21.1%\n",
      "Epoch 4: 10.5% / testing error 21.6%\n",
      "Epoch 5: 10.5% / testing error 21.6%\n",
      "Epoch 6: 10.3% / testing error 21.3%\n",
      "Epoch 7: 10.0% / testing error 21.0%\n",
      "Epoch 8: 9.6% / testing error 20.6%\n",
      "Epoch 9: 8.9% / testing error 19.9%\n",
      "Epoch 10: 8.1% / testing error 19.0%\n",
      "Epoch 11: 7.0% / testing error 17.8%\n",
      "Epoch 12: 6.1% / testing error 16.8%\n",
      "Epoch 13: 5.8% / testing error 16.6%\n",
      "Epoch 14: 5.9% / testing error 16.8%\n",
      "Epoch 15: 5.8% / testing error 16.8%\n",
      "Epoch 16: 5.7% / testing error 16.7%\n",
      "Epoch 17: 5.7% / testing error 16.8%\n",
      "Epoch 18: 5.8% / testing error 17.0%\n",
      "Epoch 19: 5.8% / testing error 17.1%\n",
      "Epoch 20: 5.7% / testing error 17.0%\n",
      "Epoch 21: 5.7% / testing error 17.0%\n",
      "Epoch 22: 6.0% / testing error 17.3%\n",
      "Epoch 23: 6.1% / testing error 17.4%\n",
      "Epoch 24: 5.8% / testing error 17.0%\n",
      "Epoch 25: 5.3% / testing error 16.4%\n",
      "Epoch 26: 4.9% / testing error 16.0%\n",
      "Epoch 27: 4.9% / testing error 16.1%\n",
      "Epoch 28: 5.2% / testing error 16.6%\n",
      "Epoch 29: 5.5% / testing error 17.0%\n",
      "Epoch 30: 5.5% / testing error 17.0%\n",
      "Epoch 31: 5.3% / testing error 16.8%\n",
      "Epoch 32: 5.0% / testing error 16.4%\n",
      "Epoch 33: 4.9% / testing error 16.2%\n",
      "Epoch 34: 5.0% / testing error 16.1%\n",
      "Epoch 35: 5.1% / testing error 16.1%\n",
      "Epoch 36: 5.1% / testing error 16.1%\n",
      "Epoch 37: 5.1% / testing error 16.0%\n",
      "Epoch 38: 4.9% / testing error 15.9%\n",
      "Epoch 39: 4.8% / testing error 15.8%\n",
      "Epoch 40: 4.8% / testing error 15.8%\n",
      "Epoch 41: 4.8% / testing error 15.9%\n",
      "Epoch 42: 4.9% / testing error 16.0%\n",
      "Epoch 43: 4.9% / testing error 16.1%\n",
      "Epoch 44: 4.9% / testing error 16.2%\n",
      "Epoch 45: 4.9% / testing error 16.3%\n",
      "Epoch 46: 5.0% / testing error 16.4%\n",
      "Epoch 47: 5.0% / testing error 16.4%\n",
      "Epoch 48: 5.0% / testing error 16.3%\n",
      "Epoch 49: 4.9% / testing error 16.2%\n",
      "Epoch 50: 4.9% / testing error 16.1%\n",
      "Epoch 51: 4.8% / testing error 16.0%\n",
      "Epoch 52: 4.8% / testing error 16.0%\n",
      "Epoch 53: 4.8% / testing error 16.0%\n",
      "Epoch 54: 4.8% / testing error 16.0%\n",
      "Epoch 55: 4.8% / testing error 16.0%\n",
      "Epoch 56: 4.8% / testing error 16.0%\n",
      "Epoch 57: 4.8% / testing error 16.1%\n",
      "Epoch 58: 4.8% / testing error 16.2%\n",
      "Epoch 59: 4.8% / testing error 16.3%\n",
      "Epoch 60: 4.8% / testing error 16.3%\n",
      "Epoch 61: 4.8% / testing error 16.3%\n",
      "Epoch 62: 4.8% / testing error 16.3%\n",
      "Epoch 63: 4.8% / testing error 16.2%\n",
      "Epoch 64: 4.7% / testing error 16.2%\n",
      "Epoch 65: 4.7% / testing error 16.1%\n",
      "Epoch 66: 4.7% / testing error 16.1%\n",
      "Epoch 67: 4.7% / testing error 16.1%\n",
      "Epoch 68: 4.7% / testing error 16.1%\n",
      "Epoch 69: 4.7% / testing error 16.1%\n",
      "Epoch 70: 4.7% / testing error 16.2%\n",
      "Epoch 71: 4.7% / testing error 16.2%\n",
      "Epoch 72: 4.7% / testing error 16.2%\n",
      "Epoch 73: 4.7% / testing error 16.2%\n",
      "Epoch 74: 4.7% / testing error 16.2%\n",
      "Epoch 75: 4.7% / testing error 16.1%\n",
      "Epoch 76: 4.7% / testing error 16.1%\n",
      "Epoch 77: 4.7% / testing error 16.1%\n",
      "Epoch 78: 4.7% / testing error 16.0%\n",
      "Epoch 79: 4.7% / testing error 16.1%\n",
      "Epoch 80: 4.7% / testing error 16.1%\n",
      "Epoch 81: 4.7% / testing error 16.1%\n",
      "Epoch 82: 4.7% / testing error 16.1%\n",
      "Epoch 83: 4.7% / testing error 16.1%\n",
      "Epoch 84: 4.7% / testing error 16.1%\n",
      "Epoch 85: 4.6% / testing error 16.1%\n",
      "Epoch 86: 4.6% / testing error 16.1%\n",
      "Epoch 87: 4.6% / testing error 16.1%\n",
      "Epoch 88: 4.6% / testing error 16.1%\n",
      "Epoch 89: 4.6% / testing error 16.1%\n",
      "Epoch 90: 4.6% / testing error 16.1%\n",
      "Epoch 91: 4.6% / testing error 16.1%\n",
      "Epoch 92: 4.6% / testing error 16.1%\n",
      "Epoch 93: 4.6% / testing error 16.1%\n",
      "Epoch 94: 4.6% / testing error 16.1%\n",
      "Epoch 95: 4.6% / testing error 16.1%\n",
      "Epoch 96: 4.6% / testing error 16.1%\n",
      "Epoch 97: 4.6% / testing error 16.0%\n",
      "Epoch 98: 4.6% / testing error 16.0%\n",
      "Epoch 99: 4.6% / testing error 16.0%\n",
      "Final training error: 4.6%\n"
     ]
    }
   ],
   "source": [
    "params = np.zeros(n_params)\n",
    "\n",
    "opt = qml.AdamOptimizer(0.02)\n",
    "\n",
    "# only take a small subset\n",
    "train_x = train_x[:100]\n",
    "train_y = train_y[:100]\n",
    "test_x = test_x[:100]\n",
    "test_y = test_y[:100]\n",
    "\n",
    "def cost(x, y, params):\n",
    "    out = model(x, params)\n",
    "    return np.linalg.norm(out - y)**2\n",
    "\n",
    "def accuracy(train_x, train_y, params):\n",
    "    mse = 0\n",
    "    for x,y in zip(train_x, train_y):\n",
    "        mse += np.sqrt(cost(x, y, params)) / np.linalg.norm(y)\n",
    "    return mse / len(train_x)\n",
    "\n",
    "baseline_accuracy = accuracy(train_x, train_y, params)\n",
    "print(f\"Baseline error: {baseline_accuracy:.1%}\")\n",
    "\n",
    "n_epoch = 100\n",
    "\n",
    "opti_error = pd.DataFrame(columns=['epoch', 'error', 'type'])\n",
    "\n",
    "for epoch in np.arange(n_epoch):\n",
    "    def obj_fn(params):\n",
    "        loss = 0\n",
    "        for x, y in zip(train_x, train_y):\n",
    "            loss += cost(x, y, params)\n",
    "        return loss\n",
    "    params, current_loss = opt.step_and_cost(obj_fn, params)\n",
    "    mse = accuracy(train_x, train_y, params)\n",
    "    opti_error = opti_error.append({\n",
    "        'epoch': epoch,\n",
    "        'error': mse,\n",
    "        'type': \"training\"\n",
    "    }, ignore_index=True)\n",
    "    test_error = accuracy(test_x, test_y, params)\n",
    "    opti_error = opti_error.append({\n",
    "        'epoch': epoch,\n",
    "        'error': test_error,\n",
    "        'type': \"test\"\n",
    "    }, ignore_index=True)\n",
    "\n",
    "    print(f\"Epoch {epoch}: {mse:.1%} / testing error {test_error:.1%}\")\n",
    "    \n",
    "train_accuracy = accuracy(train_x, train_y, params)\n",
    "print(f\"Final training error: {train_accuracy:.1%}\")"
   ]
  },
  {
   "cell_type": "code",
   "execution_count": 11,
   "metadata": {},
   "outputs": [
    {
     "data": {
      "text/plain": [
       "<seaborn.axisgrid.FacetGrid at 0x233969b75b0>"
      ]
     },
     "execution_count": 11,
     "metadata": {},
     "output_type": "execute_result"
    },
    {
     "data": {
      "image/png": "[encoded data removed]",
      "text/plain": [
       "<Figure size 435x360 with 1 Axes>"
      ]
     },
     "metadata": {
      "needs_background": "light"
     },
     "output_type": "display_data"
    }
   ],
   "source": [
    "import seaborn as sns\n",
    "\n",
    "sns.relplot(data=opti_error, x='epoch', y='error', hue='type')"
   ]
  },
  {
   "cell_type": "code",
   "execution_count": 13,
   "metadata": {},
   "outputs": [
    {
     "name": "stdout",
     "output_type": "stream",
     "text": [
      "Init baseline error (train): 7.2%\n",
      "Final baseline error (train): 4.6%\n"
     ]
    }
   ],
   "source": [
    "print(f\"Init baseline error (train): {accuracy(train_x, train_y, np.zeros(n_params)):.1%}\")\n",
    "print(f\"Final baseline error (train): {accuracy(train_x, train_y, params):.1%}\")"
   ]
  },
  {
   "cell_type": "code",
   "execution_count": 12,
   "metadata": {},
   "outputs": [
    {
     "name": "stdout",
     "output_type": "stream",
     "text": [
      "Init baseline error (test): 19.4%\n",
      "Final baseline error (test): 16.0%\n"
     ]
    }
   ],
   "source": [
    "print(f\"Init baseline error (test): {accuracy(test_x, test_y, np.zeros(n_params)):.1%}\")\n",
    "print(f\"Final baseline error (test): {accuracy(test_x, test_y, params):.1%}\")"
   ]
  }
 ],
 "metadata": {
  "kernelspec": {
   "display_name": "Python 3",
   "language": "python",
   "name": "python3"
  },
  "language_info": {
   "codemirror_mode": {
    "name": "ipython",
    "version": 3
   },
   "file_extension": ".py",
   "mimetype": "text/x-python",
   "name": "python",
   "nbconvert_exporter": "python",
   "pygments_lexer": "ipython3",
   "version": "3.9.2"
  }
 },
 "nbformat": 4,
 "nbformat_minor": 2
}
