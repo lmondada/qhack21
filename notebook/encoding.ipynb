{
 "metadata": {
  "language_info": {
   "codemirror_mode": {
    "name": "ipython",
    "version": 3
   },
   "file_extension": ".py",
   "mimetype": "text/x-python",
   "name": "python",
   "nbconvert_exporter": "python",
   "pygments_lexer": "ipython3",
   "version": "3.8.5-final"
  },
  "orig_nbformat": 2,
  "kernelspec": {
   "name": "qml-env",
   "display_name": "qml-env",
   "language": "python"
  }
 },
 "nbformat": 4,
 "nbformat_minor": 2,
 "cells": [
  {
   "cell_type": "code",
   "execution_count": 1,
   "metadata": {},
   "outputs": [
    {
     "output_type": "stream",
     "name": "stdout",
     "text": [
      "Current working directory: /Users/lucada/Documents/qhack/qhack21\n"
     ]
    }
   ],
   "source": [
    "import os\n",
    "DEBUG = True\n",
    "try:\n",
    "    print(\"Original working directory: %s\"%str(original_wd)) # type: ignore\n",
    "    \"\"\"\n",
    "        You only get her0 if you---by mistake or otherwise---are re-running this cell, \n",
    "        in which case the working should not be changed again.\n",
    "    \"\"\"\n",
    "except NameError:\n",
    "    original_wd = os.getcwd()\n",
    "    os.chdir('../')\n",
    "print(\"Current working directory: %s\"%str(os.getcwd()))"
   ]
  },
  {
   "cell_type": "code",
   "execution_count": 2,
   "metadata": {},
   "outputs": [],
   "source": [
    "from utils.data_handling import load_data, get_combined_cov_pos"
   ]
  },
  {
   "cell_type": "code",
   "execution_count": 3,
   "metadata": {},
   "outputs": [
    {
     "output_type": "stream",
     "name": "stdout",
     "text": [
      "Reading data... ok\n"
     ]
    }
   ],
   "source": [
    "data = load_data()\n",
    "\n",
    "from copy import copy\n",
    "data_backup = copy(data)"
   ]
  },
  {
   "cell_type": "code",
   "execution_count": 4,
   "metadata": {},
   "outputs": [
    {
     "output_type": "execute_result",
     "data": {
      "text/plain": [
       "   event_id  time_to_tca  mission_id       risk  max_risk_estimate  \\\n",
       "0         0     1.566798           5 -10.204955          -7.834756   \n",
       "1         0     1.207494           5 -10.355758          -7.848937   \n",
       "2         0     0.952193           5 -10.345631          -7.847406   \n",
       "3         0     0.579669           5 -10.337809          -7.845880   \n",
       "4         0     0.257806           5 -10.391260          -7.852942   \n",
       "\n",
       "   max_risk_scaling  miss_distance  relative_speed  relative_position_r  \\\n",
       "0          8.602101        14923.0         13792.0                453.8   \n",
       "1          8.956374        14544.0         13792.0                474.3   \n",
       "2          8.932195        14475.0         13792.0                474.6   \n",
       "3          8.913444        14579.0         13792.0                472.7   \n",
       "4          9.036838        14510.0         13792.0                478.7   \n",
       "\n",
       "   relative_position_t  ...  t_sigma_rdot  c_sigma_rdot  t_sigma_tdot  \\\n",
       "0               5976.6  ...      0.147350     58.272095      0.004092   \n",
       "1               5821.2  ...      0.059672     57.966413      0.003753   \n",
       "2               5796.2  ...      0.039258     57.907599      0.003576   \n",
       "3               5838.9  ...      0.022066     57.993905      0.003298   \n",
       "4               5811.1  ...      0.015075     57.946717      0.003670   \n",
       "\n",
       "   c_sigma_tdot  t_sigma_ndot  c_sigma_ndot   F10   F3M   SSN    AP  \n",
       "0      0.165044      0.002987      0.386462  89.0  83.0  42.0  11.0  \n",
       "1      0.164383      0.002933      0.386393  89.0  83.0  42.0  11.0  \n",
       "2      0.164352      0.002967      0.386381  89.0  83.0  42.0  11.0  \n",
       "3      0.164309      0.002918      0.386400  89.0  83.0  40.0  14.0  \n",
       "4      0.164172      0.003220      0.386388  89.0  83.0  40.0  14.0  \n",
       "\n",
       "[5 rows x 103 columns]"
      ],
      "text/html": "<div>\n<style scoped>\n    .dataframe tbody tr th:only-of-type {\n        vertical-align: middle;\n    }\n\n    .dataframe tbody tr th {\n        vertical-align: top;\n    }\n\n    .dataframe thead th {\n        text-align: right;\n    }\n</style>\n<table border=\"1\" class=\"dataframe\">\n  <thead>\n    <tr style=\"text-align: right;\">\n      <th></th>\n      <th>event_id</th>\n      <th>time_to_tca</th>\n      <th>mission_id</th>\n      <th>risk</th>\n      <th>max_risk_estimate</th>\n      <th>max_risk_scaling</th>\n      <th>miss_distance</th>\n      <th>relative_speed</th>\n      <th>relative_position_r</th>\n      <th>relative_position_t</th>\n      <th>...</th>\n      <th>t_sigma_rdot</th>\n      <th>c_sigma_rdot</th>\n      <th>t_sigma_tdot</th>\n      <th>c_sigma_tdot</th>\n      <th>t_sigma_ndot</th>\n      <th>c_sigma_ndot</th>\n      <th>F10</th>\n      <th>F3M</th>\n      <th>SSN</th>\n      <th>AP</th>\n    </tr>\n  </thead>\n  <tbody>\n    <tr>\n      <th>0</th>\n      <td>0</td>\n      <td>1.566798</td>\n      <td>5</td>\n      <td>-10.204955</td>\n      <td>-7.834756</td>\n      <td>8.602101</td>\n      <td>14923.0</td>\n      <td>13792.0</td>\n      <td>453.8</td>\n      <td>5976.6</td>\n      <td>...</td>\n      <td>0.147350</td>\n      <td>58.272095</td>\n      <td>0.004092</td>\n      <td>0.165044</td>\n      <td>0.002987</td>\n      <td>0.386462</td>\n      <td>89.0</td>\n      <td>83.0</td>\n      <td>42.0</td>\n      <td>11.0</td>\n    </tr>\n    <tr>\n      <th>1</th>\n      <td>0</td>\n      <td>1.207494</td>\n      <td>5</td>\n      <td>-10.355758</td>\n      <td>-7.848937</td>\n      <td>8.956374</td>\n      <td>14544.0</td>\n      <td>13792.0</td>\n      <td>474.3</td>\n      <td>5821.2</td>\n      <td>...</td>\n      <td>0.059672</td>\n      <td>57.966413</td>\n      <td>0.003753</td>\n      <td>0.164383</td>\n      <td>0.002933</td>\n      <td>0.386393</td>\n      <td>89.0</td>\n      <td>83.0</td>\n      <td>42.0</td>\n      <td>11.0</td>\n    </tr>\n    <tr>\n      <th>2</th>\n      <td>0</td>\n      <td>0.952193</td>\n      <td>5</td>\n      <td>-10.345631</td>\n      <td>-7.847406</td>\n      <td>8.932195</td>\n      <td>14475.0</td>\n      <td>13792.0</td>\n      <td>474.6</td>\n      <td>5796.2</td>\n      <td>...</td>\n      <td>0.039258</td>\n      <td>57.907599</td>\n      <td>0.003576</td>\n      <td>0.164352</td>\n      <td>0.002967</td>\n      <td>0.386381</td>\n      <td>89.0</td>\n      <td>83.0</td>\n      <td>42.0</td>\n      <td>11.0</td>\n    </tr>\n    <tr>\n      <th>3</th>\n      <td>0</td>\n      <td>0.579669</td>\n      <td>5</td>\n      <td>-10.337809</td>\n      <td>-7.845880</td>\n      <td>8.913444</td>\n      <td>14579.0</td>\n      <td>13792.0</td>\n      <td>472.7</td>\n      <td>5838.9</td>\n      <td>...</td>\n      <td>0.022066</td>\n      <td>57.993905</td>\n      <td>0.003298</td>\n      <td>0.164309</td>\n      <td>0.002918</td>\n      <td>0.386400</td>\n      <td>89.0</td>\n      <td>83.0</td>\n      <td>40.0</td>\n      <td>14.0</td>\n    </tr>\n    <tr>\n      <th>4</th>\n      <td>0</td>\n      <td>0.257806</td>\n      <td>5</td>\n      <td>-10.391260</td>\n      <td>-7.852942</td>\n      <td>9.036838</td>\n      <td>14510.0</td>\n      <td>13792.0</td>\n      <td>478.7</td>\n      <td>5811.1</td>\n      <td>...</td>\n      <td>0.015075</td>\n      <td>57.946717</td>\n      <td>0.003670</td>\n      <td>0.164172</td>\n      <td>0.003220</td>\n      <td>0.386388</td>\n      <td>89.0</td>\n      <td>83.0</td>\n      <td>40.0</td>\n      <td>14.0</td>\n    </tr>\n  </tbody>\n</table>\n<p>5 rows × 103 columns</p>\n</div>"
     },
     "metadata": {},
     "execution_count": 4
    }
   ],
   "source": [
    "event_id = 0\n",
    "\n",
    "data = data[data.event_id == event_id]\n",
    "covs = get_combined_cov_pos(data)\n",
    "data"
   ]
  },
  {
   "cell_type": "code",
   "execution_count": 22,
   "metadata": {},
   "outputs": [],
   "source": [
    "from utils.linalg import so3_to_su2, to_so3\n",
    "from encoding import encode \n",
    "import pennylane.numpy as np\n",
    "import pennylane as qml"
   ]
  },
  {
   "cell_type": "code",
   "execution_count": 27,
   "metadata": {
    "tags": []
   },
   "outputs": [
    {
     "output_type": "stream",
     "name": "stdout",
     "text": [
      " 0: ──RX(0.408)───RX(0)──RZ(5)─────RX(10)───────────────────────╭C──────────────────────────────────────────────────────────────────────────────────────────────────────────┤     \n 1: ──RX(0.505)───RX(1)──RZ(6)─────RX(11)───────────────────╭C──│───────────────────────────────────────────────────────────────────────────────────────────────────────────┤     \n 2: ──RX(1.09)────RX(2)──RZ(7)─────RX(12)───────────────╭C──│───│───────────────────────────────────────────────────────────────────────────────────────────────────────────┤     \n 3: ──H──────────╭C──────RZ(1.86)──RX(1.16)──RZ(-3.14)──│───│───│───RX(3)──RZ(8)──RX(13)──╭C──────╭C──────────╭C────────────────────────────────────────────────────────────┤     \n 4: ─────────────╰X──────RX(4)─────RZ(9)─────RX(14)─────│───│───│─────────────────────────│───╭C──│───────╭C──│───────────╭C────────────────────────────────────────────────┤     \n 5: ──RX(0.35)──────────────────────────────────────────│───│───╰X────────────────────────╰X──╰X──│───╭X──│───│───────╭X──│────RX(15)───────RZ(18)──RX(21)──────────────────┤ ⟨Z⟩ \n 6: ──RX(0.505)─────────────────────────────────────────│───╰X────────────────────────────────────╰X──│───╰X──│───╭X──│───│────────────╭X───RX(16)──RZ(19)──RX(22)──────────┤ ⟨Z⟩ \n 7: ──RX(1.09)──────────────────────────────────────────╰X────────────────────────────────────────────│───────╰X──│───│───╰X──╭X───────│───╭X───────RX(17)──RZ(20)──RX(23)──┤ ⟨Z⟩ \n 8: ──H──────────╭C──────RZ(1.83)──RX(1.16)──RZ(-3.14)────────────────────────────────────────────────╰C──────────╰C──│───────╰C───────│───│────────────────────────────────┤     \n 9: ─────────────╰X───────────────────────────────────────────────────────────────────────────────────────────────────╰C───────────────╰C──╰C───────────────────────────────┤     \n\n"
     ]
    }
   ],
   "source": [
    "selected_ind = [0, 1]\n",
    "wires = np.arange(5 * len(selected_ind))\n",
    "dev = qml.device('default.qubit', wires=wires)\n",
    "\n",
    "def layer(params):\n",
    "    qml.templates.AngleEmbedding(params[:5], wires[:5], rotation='X')\n",
    "    qml.templates.AngleEmbedding(params[5:10], wires[:5], rotation='Z')\n",
    "    qml.templates.AngleEmbedding(params[10:15], wires[:5], rotation='X')\n",
    "    # entangle position t0 with t1\n",
    "    for ind in np.arange(3):\n",
    "        q0 = wires[ind]\n",
    "        q1 = wires[ind+5]\n",
    "        qml.CNOT(wires=[q0, q1])\n",
    "    # entangle cov(t0) with pos(t1)\n",
    "    for ind in np.arange(3, 5):\n",
    "        q0 = wires[ind]\n",
    "        for jnd in np.arange(5, 8):\n",
    "            q1 = wires[jnd]\n",
    "            qml.CNOT(wires=[q0,q1])\n",
    "    # entangle cov(t1) with pos(t1)\n",
    "    for ind in np.arange(8, 10):\n",
    "        q0 = wires[ind]\n",
    "        for jnd in np.arange(5, 8):\n",
    "            q1 = wires[jnd]\n",
    "            qml.CNOT(wires=[q0,q1])\n",
    "    \n",
    "    qml.templates.AngleEmbedding(params[15:18], wires[5:8], rotation='X')\n",
    "    qml.templates.AngleEmbedding(params[18:21], wires[5:8], rotation='Z')\n",
    "    qml.templates.AngleEmbedding(params[21:24], wires[5:8], rotation='X')\n",
    "\n",
    "@qml.qnode(dev)\n",
    "def circ(covs, params):\n",
    "    for ind, cov in enumerate(covs):\n",
    "        encode(cov, wires=wires[5*ind:5*(ind+1)])\n",
    "    layer(params)\n",
    "    return [qml.expval(qml.PauliZ(wires=i)) for i in wires[5:8]]\n",
    "\n",
    "def model(covs, params):\n",
    "    out = circ(covs, params)\n",
    "    alphas = 2*np.arccos(np.sqrt(.5 * (out[:3] + 1)))\n",
    "    return alphas\n",
    "\n",
    "circ(covs[:2], np.arange(24))\n",
    "print(circ.draw())"
   ]
  },
  {
   "cell_type": "code",
   "execution_count": 5,
   "metadata": {},
   "outputs": [
    {
     "output_type": "error",
     "ename": "TypeError",
     "evalue": "first argument must be callable or None",
     "traceback": [
      "\u001b[0;31m---------------------------------------------------------------------------\u001b[0m",
      "\u001b[0;31mTypeError\u001b[0m                                 Traceback (most recent call last)",
      "\u001b[0;32m<ipython-input-5-8cf3de0c7c56>\u001b[0m in \u001b[0;36m<module>\u001b[0;34m\u001b[0m\n\u001b[1;32m      6\u001b[0m \u001b[0mcovs\u001b[0m \u001b[0;34m=\u001b[0m \u001b[0mget_combined_cov_pos\u001b[0m\u001b[0;34m(\u001b[0m\u001b[0mdata\u001b[0m\u001b[0;34m)\u001b[0m\u001b[0;34m\u001b[0m\u001b[0;34m\u001b[0m\u001b[0m\n\u001b[1;32m      7\u001b[0m \u001b[0;34m\u001b[0m\u001b[0m\n\u001b[0;32m----> 8\u001b[0;31m \u001b[0mevents\u001b[0m \u001b[0;34m=\u001b[0m \u001b[0mdefaultdict\u001b[0m\u001b[0;34m(\u001b[0m\u001b[0;34m[\u001b[0m\u001b[0;34m]\u001b[0m\u001b[0;34m)\u001b[0m\u001b[0;34m\u001b[0m\u001b[0;34m\u001b[0m\u001b[0m\n\u001b[0m\u001b[1;32m      9\u001b[0m \u001b[0;32mfor\u001b[0m \u001b[0mrow\u001b[0m\u001b[0;34m,\u001b[0m \u001b[0mcov\u001b[0m \u001b[0;32min\u001b[0m \u001b[0mzip\u001b[0m\u001b[0;34m(\u001b[0m\u001b[0mdata\u001b[0m\u001b[0;34m,\u001b[0m \u001b[0mcovs\u001b[0m\u001b[0;34m)\u001b[0m\u001b[0;34m:\u001b[0m\u001b[0;34m\u001b[0m\u001b[0;34m\u001b[0m\u001b[0m\n\u001b[1;32m     10\u001b[0m     \u001b[0mevents\u001b[0m\u001b[0;34m[\u001b[0m\u001b[0mrow\u001b[0m\u001b[0;34m.\u001b[0m\u001b[0mevent_id\u001b[0m\u001b[0;34m]\u001b[0m\u001b[0;34m.\u001b[0m\u001b[0mappend\u001b[0m\u001b[0;34m(\u001b[0m\u001b[0mcov\u001b[0m\u001b[0;34m)\u001b[0m\u001b[0;34m\u001b[0m\u001b[0;34m\u001b[0m\u001b[0m\n",
      "\u001b[0;31mTypeError\u001b[0m: first argument must be callable or None"
     ]
    }
   ],
   "source": [
    "from collections import defaultdict\n",
    "\n",
    "data = data_backup\n",
    "covs = get_combined_cov_pos(data)"
   ]
  },
  {
   "source": [
    "events = defaultdict(list)\n",
    "for (_,row), cov in zip(data.iterrows(), covs):\n",
    "    events[row.event_id].append(cov)"
   ],
   "cell_type": "code",
   "metadata": {
    "tags": []
   },
   "execution_count": 12,
   "outputs": []
  },
  {
   "cell_type": "code",
   "execution_count": 36,
   "metadata": {
    "tags": []
   },
   "outputs": [
    {
     "output_type": "execute_result",
     "data": {
      "text/plain": [
       "(50218, 50218)"
      ]
     },
     "metadata": {},
     "execution_count": 36
    }
   ],
   "source": [
    "training_x = []\n",
    "training_y = []\n",
    "for event_id, cdms in events.items():\n",
    "    if len(cdms) < 3:\n",
    "        continue\n",
    "    ind = 0\n",
    "    while ind + 3 <= len(cdms):\n",
    "        fst, snd, thd = cdms[ind:ind+3]\n",
    "        training_x.append((fst, snd))\n",
    "        eigs, _ = np.linalg.eigh(thd)\n",
    "        eigs = np.log(eigs)/20\n",
    "        training_y.append(eigs)\n",
    "        ind += 3\n",
    "len(training_x), len(training_y)"
   ]
  },
  {
   "cell_type": "code",
   "execution_count": 43,
   "metadata": {
    "tags": []
   },
   "outputs": [
    {
     "output_type": "stream",
     "name": "stdout",
     "text": [
      "Epoch 0: 20543.0%\n",
      "Epoch 1: 20464.1%\n",
      "Epoch 2: 20363.7%\n",
      "Epoch 3: 20103.4%\n",
      "Epoch 4: 19511.3%\n",
      "Epoch 5: 18597.8%\n",
      "Epoch 6: 17829.6%\n",
      "Epoch 7: 17542.7%\n",
      "Epoch 8: 17474.1%\n",
      "Epoch 9: 17451.0%\n",
      "Epoch 10: 17469.8%\n",
      "Epoch 11: 17497.0%\n",
      "Epoch 12: 17492.2%\n",
      "Epoch 13: 17426.8%\n",
      "Epoch 14: 17279.0%\n",
      "Epoch 15: 17068.8%\n",
      "Epoch 16: 16889.2%\n",
      "Epoch 17: 16841.9%\n",
      "Epoch 18: 16928.3%\n",
      "Epoch 19: 17060.8%\n",
      "Epoch 20: 17150.7%\n",
      "Epoch 21: 17156.7%\n",
      "Epoch 22: 17086.8%\n",
      "Epoch 23: 16981.1%\n",
      "Epoch 24: 16889.0%\n",
      "Epoch 25: 16844.3%\n",
      "Epoch 26: 16847.9%\n",
      "Epoch 27: 16870.9%\n",
      "Epoch 28: 16877.6%\n",
      "Epoch 29: 16854.5%\n",
      "Epoch 30: 16814.0%\n",
      "Epoch 31: 16778.9%\n",
      "Epoch 32: 16767.7%\n",
      "Epoch 33: 16782.2%\n",
      "Epoch 34: 16801.5%\n",
      "Epoch 35: 16794.7%\n",
      "Epoch 36: 16753.1%\n",
      "Epoch 37: 16700.1%\n",
      "Epoch 38: 16665.8%\n",
      "Epoch 39: 16664.9%\n",
      "Epoch 40: 16689.4%\n",
      "Epoch 41: 16710.1%\n",
      "Epoch 42: 16700.1%\n",
      "Epoch 43: 16665.5%\n",
      "Epoch 44: 16636.6%\n",
      "Epoch 45: 16637.0%\n",
      "Epoch 46: 16667.1%\n",
      "Epoch 47: 16703.0%\n",
      "Epoch 48: 16713.3%\n",
      "Epoch 49: 16691.4%\n",
      "Epoch 50: 16661.3%\n",
      "Epoch 51: 16649.3%\n",
      "Epoch 52: 16661.5%\n",
      "Epoch 53: 16681.0%\n",
      "Epoch 54: 16683.6%\n",
      "Epoch 55: 16666.3%\n",
      "Epoch 56: 16648.6%\n",
      "Epoch 57: 16647.7%\n",
      "Epoch 58: 16662.7%\n",
      "Epoch 59: 16676.7%\n",
      "Epoch 60: 16672.6%\n",
      "Epoch 61: 16653.3%\n",
      "Epoch 62: 16639.9%\n",
      "Epoch 63: 16646.9%\n",
      "Epoch 64: 16666.8%\n",
      "Epoch 65: 16678.3%\n",
      "Epoch 66: 16671.3%\n",
      "Epoch 67: 16657.7%\n",
      "Epoch 68: 16654.0%\n",
      "Epoch 69: 16661.6%\n",
      "Epoch 70: 16667.8%\n",
      "Epoch 71: 16662.4%\n",
      "Epoch 72: 16652.4%\n",
      "Epoch 73: 16652.4%\n",
      "Epoch 74: 16664.4%\n",
      "Epoch 75: 16675.6%\n",
      "Epoch 76: 16674.3%\n",
      "Epoch 77: 16665.0%\n",
      "Epoch 78: 16661.0%\n",
      "Epoch 79: 16667.1%\n",
      "Epoch 80: 16674.2%\n",
      "Epoch 81: 16672.4%\n",
      "Epoch 82: 16665.6%\n",
      "Epoch 83: 16664.7%\n",
      "Epoch 84: 16672.1%\n",
      "Epoch 85: 16678.5%\n",
      "Epoch 86: 16676.1%\n",
      "Epoch 87: 16670.0%\n",
      "Epoch 88: 16669.3%\n",
      "Epoch 89: 16673.7%\n",
      "Epoch 90: 16675.3%\n",
      "Epoch 91: 16671.6%\n",
      "Epoch 92: 16669.5%\n",
      "Epoch 93: 16674.0%\n",
      "Epoch 94: 16679.9%\n",
      "Epoch 95: 16679.8%\n",
      "Epoch 96: 16675.4%\n",
      "Epoch 97: 16674.6%\n",
      "Epoch 98: 16678.7%\n",
      "Epoch 99: 16682.0%\n"
     ]
    }
   ],
   "source": [
    "np.random.seed(145315)\n",
    "params = np.random.rand(30)\n",
    "\n",
    "opt = qml.AdamOptimizer(0.3)\n",
    "\n",
    "training_x = training_x[:100]\n",
    "training_y = training_y[:100]\n",
    "\n",
    "def cost(x, y, params):\n",
    "    out = model(x, params)\n",
    "    return np.linalg.norm(out - y)**2\n",
    "\n",
    "def accuracy(train_x, train_y, params):\n",
    "    mse = 0\n",
    "    for x,y in zip(train_x, train_y):\n",
    "        mse += np.sqrt(cost(x, y, params)) / np.linalg.norm(y)\n",
    "    return mse\n",
    "\n",
    "n_epoch = 100\n",
    "for epoch in np.arange(n_epoch):\n",
    "    def obj_fn(params):\n",
    "        loss = 0\n",
    "        for x, y in zip(training_x, training_y):\n",
    "            loss += cost(x, y, params)\n",
    "        return loss\n",
    "    params, current_loss = opt.step_and_cost(obj_fn, params)\n",
    "    mse = accuracy(training_x, training_y, params)\n",
    "\n",
    "    print(f\"Epoch {epoch}: {mse:.1%}\")"
   ]
  },
  {
   "cell_type": "code",
   "execution_count": null,
   "metadata": {},
   "outputs": [],
   "source": []
  }
 ]
}