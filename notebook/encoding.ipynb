{
 "metadata": {
  "language_info": {
   "codemirror_mode": {
    "name": "ipython",
    "version": 3
   },
   "file_extension": ".py",
   "mimetype": "text/x-python",
   "name": "python",
   "nbconvert_exporter": "python",
   "pygments_lexer": "ipython3",
   "version": "3.8.5-final"
  },
  "orig_nbformat": 2,
  "kernelspec": {
   "name": "qml-env",
   "display_name": "qml-env",
   "language": "python"
  }
 },
 "nbformat": 4,
 "nbformat_minor": 2,
 "cells": [
  {
   "cell_type": "code",
   "execution_count": 1,
   "metadata": {},
   "outputs": [
    {
     "output_type": "stream",
     "name": "stdout",
     "text": [
      "Current working directory: /Users/lucada/Documents/qhack/qhack21\n"
     ]
    }
   ],
   "source": [
    "import os\n",
    "DEBUG = True\n",
    "try:\n",
    "    print(\"Original working directory: %s\"%str(original_wd)) # type: ignore\n",
    "    \"\"\"\n",
    "        You only get her0 if you---by mistake or otherwise---are re-running this cell, \n",
    "        in which case the working should not be changed again.\n",
    "    \"\"\"\n",
    "except NameError:\n",
    "    original_wd = os.getcwd()\n",
    "    os.chdir('../')\n",
    "print(\"Current working directory: %s\"%str(os.getcwd()))"
   ]
  },
  {
   "cell_type": "code",
   "execution_count": 2,
   "metadata": {},
   "outputs": [],
   "source": [
    "from utils.data_handling import load_data, get_combined_cov_pos"
   ]
  },
  {
   "cell_type": "code",
   "execution_count": 3,
   "metadata": {},
   "outputs": [
    {
     "output_type": "stream",
     "name": "stdout",
     "text": [
      "Reading data... ok\n"
     ]
    }
   ],
   "source": [
    "data = load_data()[:100]\n",
    "covs = get_combined_cov_pos(data)"
   ]
  },
  {
   "cell_type": "code",
   "execution_count": 4,
   "metadata": {},
   "outputs": [],
   "source": [
    "from utils.linalg import so3_to_su2, to_so3\n",
    "from encoding import encode \n",
    "import numpy as np\n",
    "import pennylane as qml"
   ]
  },
  {
   "cell_type": "code",
   "execution_count": 5,
   "metadata": {
    "tags": []
   },
   "outputs": [
    {
     "output_type": "stream",
     "name": "stdout",
     "text": [
      " 0: ──RX(8.15)─────────────────────────────────────┤ ⟨X⟩ \n 1: ──RX(10.1)─────────────────────────────────────┤ ⟨X⟩ \n 2: ──RX(21.8)─────────────────────────────────────┤ ⟨X⟩ \n 3: ──H─────────╭C──RZ(1.86)──RX(1.16)──RZ(-3.14)──┤ ⟨X⟩ \n 4: ────────────╰X─────────────────────────────────┤ ⟨X⟩ \n\n"
     ]
    }
   ],
   "source": [
    "wires = np.arange(5)\n",
    "dev = qml.device('default.qubit', wires=wires)\n",
    "\n",
    "@qml.qnode(dev)\n",
    "def circ():\n",
    "    encode(covs[0], wires=wires)\n",
    "    return [qml.expval(qml.PauliX(wires=i)) for i in wires]\n",
    "\n",
    "circ()\n",
    "print(circ.draw())"
   ]
  }
 ]
}