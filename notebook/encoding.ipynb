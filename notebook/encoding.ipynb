{
 "metadata": {
  "language_info": {
   "codemirror_mode": {
    "name": "ipython",
    "version": 3
   },
   "file_extension": ".py",
   "mimetype": "text/x-python",
   "name": "python",
   "nbconvert_exporter": "python",
   "pygments_lexer": "ipython3",
   "version": "3.8.5-final"
  },
  "orig_nbformat": 2,
  "kernelspec": {
   "name": "qml-env",
   "display_name": "qml-env",
   "language": "python"
  }
 },
 "nbformat": 4,
 "nbformat_minor": 2,
 "cells": [
  {
   "cell_type": "code",
   "execution_count": null,
   "metadata": {},
   "outputs": [],
   "source": [
    "import os\n",
    "DEBUG = True\n",
    "try:\n",
    "    print(\"Original working directory: %s\"%str(original_wd)) # type: ignore\n",
    "    \"\"\"\n",
    "        You only get her0 if you---by mistake or otherwise---are re-running this cell, \n",
    "        in which case the working should not be changed again.\n",
    "    \"\"\"\n",
    "except NameError:\n",
    "    original_wd = os.getcwd()\n",
    "    os.chdir('../')\n",
    "print(\"Current working directory: %s\"%str(os.getcwd()))"
   ]
  },
  {
   "cell_type": "code",
   "execution_count": null,
   "metadata": {},
   "outputs": [],
   "source": [
    "from utils.data_handling import load_data, get_combined_cov_pos"
   ]
  },
  {
   "cell_type": "code",
   "execution_count": null,
   "metadata": {},
   "outputs": [],
   "source": [
    "data = load_data()\n",
    "\n",
    "from copy import copy\n",
    "data_backup = copy(data)"
   ]
  },
  {
   "cell_type": "code",
   "execution_count": null,
   "metadata": {},
   "outputs": [],
   "source": [
    "event_id = 0\n",
    "\n",
    "data = data[data.event_id == event_id]\n",
    "covs = get_combined_cov_pos(data)\n",
    "data"
   ]
  },
  {
   "cell_type": "code",
   "execution_count": null,
   "metadata": {},
   "outputs": [],
   "source": [
    "from utils.linalg import so3_to_su2, to_so3\n",
    "from encoding import encode \n",
    "import pennylane.numpy as np\n",
    "import pennylane as qml"
   ]
  },
  {
   "cell_type": "code",
   "execution_count": null,
   "metadata": {
    "tags": []
   },
   "outputs": [],
   "source": [
    "selected_ind = [0, 1]\n",
    "wires = np.arange(5 * len(selected_ind))\n",
    "dev = qml.device('default.qubit', wires=wires)\n",
    "\n",
    "def layer(params):\n",
    "    qml.templates.AngleEmbedding(params[:5], wires[:5], rotation='X')\n",
    "    qml.templates.AngleEmbedding(params[5:10], wires[:5], rotation='Z')\n",
    "    qml.templates.AngleEmbedding(params[10:15], wires[:5], rotation='X')\n",
    "    # entangle position t0 with t1\n",
    "    for ind in np.arange(3):\n",
    "        q0 = wires[ind]\n",
    "        q1 = wires[ind+5]\n",
    "        qml.CNOT(wires=[q0, q1])\n",
    "    # entangle cov(t0) with pos(t1)\n",
    "    for ind in np.arange(3, 5):\n",
    "        q0 = wires[ind]\n",
    "        for jnd in np.arange(5, 8):\n",
    "            q1 = wires[jnd]\n",
    "            qml.CNOT(wires=[q0,q1])\n",
    "    # entangle cov(t1) with pos(t1)\n",
    "    for ind in np.arange(8, 10):\n",
    "        q0 = wires[ind]\n",
    "        for jnd in np.arange(5, 8):\n",
    "            q1 = wires[jnd]\n",
    "            qml.CNOT(wires=[q0,q1])\n",
    "    \n",
    "    qml.templates.AngleEmbedding(params[15:18], wires[5:8], rotation='X')\n",
    "    qml.templates.AngleEmbedding(params[18:21], wires[5:8], rotation='Z')\n",
    "    qml.templates.AngleEmbedding(params[21:24], wires[5:8], rotation='X')\n",
    "\n",
    "@qml.qnode(dev)\n",
    "def circ(covs, params):\n",
    "    for ind, cov in enumerate(covs):\n",
    "        encode(cov, wires=wires[5*ind:5*(ind+1)])\n",
    "    layer(params)\n",
    "    return [qml.expval(qml.PauliZ(wires=i)) for i in wires[5:8]]\n",
    "\n",
    "def model(covs, params):\n",
    "    out = circ(covs, params)\n",
    "    alphas = 2*np.arccos(np.sqrt(.5 * (out[:3] + 1)))\n",
    "    return alphas\n",
    "\n",
    "circ(covs[:2], np.arange(24))\n",
    "print(circ.draw())"
   ]
  },
  {
   "cell_type": "code",
   "execution_count": null,
   "metadata": {},
   "outputs": [],
   "source": [
    "from collections import defaultdict\n",
    "\n",
    "data = data_backup\n",
    "covs = get_combined_cov_pos(data)"
   ]
  },
  {
   "source": [
    "events = defaultdict(list)\n",
    "for (_,row), cov in zip(data.iterrows(), covs):\n",
    "    events[row.event_id].append(cov)"
   ],
   "cell_type": "code",
   "metadata": {
    "tags": []
   },
   "execution_count": null,
   "outputs": []
  },
  {
   "cell_type": "code",
   "execution_count": null,
   "metadata": {
    "tags": []
   },
   "outputs": [],
   "source": [
    "training_x = []\n",
    "training_y = []\n",
    "for event_id, cdms in events.items():\n",
    "    if len(cdms) < 3:\n",
    "        continue\n",
    "    ind = 0\n",
    "    while ind + 3 <= len(cdms):\n",
    "        fst, snd, thd = cdms[ind:ind+3]\n",
    "        training_x.append((fst, snd))\n",
    "        eigs, _ = np.linalg.eigh(thd)\n",
    "        eigs = np.log(eigs)/20\n",
    "        training_y.append(eigs)\n",
    "        ind += 3\n",
    "len(training_x), len(training_y)"
   ]
  },
  {
   "cell_type": "code",
   "execution_count": null,
   "metadata": {
    "tags": []
   },
   "outputs": [],
   "source": [
    "np.random.seed(145315)\n",
    "params = np.random.rand(30)\n",
    "\n",
    "opt = qml.AdamOptimizer(0.3)\n",
    "\n",
    "training_x = training_x[:100]\n",
    "training_y = training_y[:100]\n",
    "\n",
    "def cost(x, y, params):\n",
    "    out = model(x, params)\n",
    "    return np.linalg.norm(out - y)**2\n",
    "\n",
    "def accuracy(train_x, train_y, params):\n",
    "    mse = 0\n",
    "    for x,y in zip(train_x, train_y):\n",
    "        mse += np.sqrt(cost(x, y, params)) / np.linalg.norm(y)\n",
    "    return mse / len(train_x)\n",
    "\n",
    "n_epoch = 100\n",
    "for epoch in np.arange(n_epoch):\n",
    "    def obj_fn(params):\n",
    "        loss = 0\n",
    "        for x, y in zip(training_x, training_y):\n",
    "            loss += cost(x, y, params)\n",
    "        return loss\n",
    "    params, current_loss = opt.step_and_cost(obj_fn, params)\n",
    "    mse = accuracy(training_x, training_y, params)\n",
    "\n",
    "    print(f\"Epoch {epoch}: {mse:.1%}\")"
   ]
  },
  {
   "cell_type": "code",
   "execution_count": null,
   "metadata": {},
   "outputs": [],
   "source": []
  }
 ]
}